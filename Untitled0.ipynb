{
 "metadata": {
  "name": "",
  "signature": "sha256:0ac74830e4d9059ccad53777cf72717c3355dccf71875b9e14351cf1f36295ae"
 },
 "nbformat": 3,
 "nbformat_minor": 0,
 "worksheets": [
  {
   "cells": [
    {
     "cell_type": "code",
     "collapsed": false,
     "input": [
      "import csv\n",
      "import gzip\n",
      "import numpy as np\n",
      "from sklearn import linear_model as lm\n",
      "\n",
      "train_filename = 'train.csv.gz'\n",
      "test_filename  = 'test.csv.gz'\n",
      "pred_filename  = 'example_mean.csv'\n"
     ],
     "language": "python",
     "metadata": {},
     "outputs": [],
     "prompt_number": 3
    },
    {
     "cell_type": "code",
     "collapsed": false,
     "input": [
      "# Load the training file.\n",
      "train_data = []\n",
      "with gzip.open(train_filename, 'r') as train_fh:\n",
      "\n",
      "    # Parse it as a CSV file.\n",
      "    train_csv = csv.reader(train_fh, delimiter=',', quotechar='\"')\n",
      "    \n",
      "    # Skip the header row.\n",
      "    next(train_csv, None)\n",
      "\n",
      "    # Load the data.\n",
      "    for row in train_csv:\n",
      "        smiles   = row[0]\n",
      "        features = np.array([float(x) for x in row[1:257]])\n",
      "        gap      = float(row[257])\n",
      "        \n",
      "        train_data.append({ 'smiles':   smiles,\n",
      "                            'features': features,\n",
      "                            'gap':      gap })\n"
     ],
     "language": "python",
     "metadata": {},
     "outputs": [],
     "prompt_number": 2
    },
    {
     "cell_type": "code",
     "collapsed": false,
     "input": [
      "clf = lm.Ridge(alpha=1.0)\n",
      "clf.fit([[1,1,1],[1,0,1],[0,0,1]],[0,0,1])\n",
      "clf.coef_"
     ],
     "language": "python",
     "metadata": {},
     "outputs": [
      {
       "metadata": {},
       "output_type": "pyout",
       "prompt_number": 32,
       "text": [
        "array([-0.375, -0.125,  0.   ])"
       ]
      }
     ],
     "prompt_number": 32
    },
    {
     "cell_type": "code",
     "collapsed": false,
     "input": [
      "# Compute the mean of the gaps in the training data.\n",
      "gaps = np.array([datum['gap'] for datum in train_data[:500000]])\n",
      "features = np.array([datum['features'] for datum in train_data[:500000]])\n",
      "clf = lm.Ridge(alpha=1.0)\n",
      "clf.fit(features,gaps)\n"
     ],
     "language": "python",
     "metadata": {},
     "outputs": [
      {
       "metadata": {},
       "output_type": "pyout",
       "prompt_number": 33,
       "text": [
        "Ridge(alpha=1.0, copy_X=True, fit_intercept=True, max_iter=None,\n",
        "   normalize=False, solver='auto', tol=0.001)"
       ]
      }
     ],
     "prompt_number": 33
    },
    {
     "cell_type": "code",
     "collapsed": false,
     "input": [
      "clf.coef_"
     ],
     "language": "python",
     "metadata": {},
     "outputs": [
      {
       "metadata": {},
       "output_type": "pyout",
       "prompt_number": 34,
       "text": [
        "array([ 0.02219096,  0.        ,  0.        ,  0.        ,  0.23142733,\n",
        "        0.00844959,  0.1961229 ,  0.        ,  0.        ,  0.        ,\n",
        "        0.        ,  0.        ,  0.        ,  0.        ,  0.        ,\n",
        "        0.        ,  0.        ,  0.        ,  0.        ,  0.        ,\n",
        "        0.        ,  0.        ,  0.        ,  0.        , -0.05899022,\n",
        "        0.        ,  0.        ,  0.        ,  0.        ,  0.        ,\n",
        "        0.        ,  0.        ,  0.        ,  0.        ,  0.        ,\n",
        "        0.        ,  0.23552155,  0.        ,  0.        ,  0.        ,\n",
        "        0.        ,  0.        ,  0.        ,  0.32523066,  0.        ,\n",
        "        0.        ,  0.        ,  0.        ,  0.        ,  0.        ,\n",
        "        0.        ,  0.        ,  0.        ,  0.        ,  0.        ,\n",
        "        0.        ,  0.        ,  0.        ,  0.        ,  0.        ,\n",
        "        0.        ,  0.        ,  0.        ,  0.        ,  0.        ,\n",
        "        0.        ,  0.        , -0.22186038, -0.29880734,  0.        ,\n",
        "        0.        , -0.01670252,  0.        ,  0.        ,  0.        ,\n",
        "        0.        ,  0.        ,  0.        ,  0.        ,  0.        ,\n",
        "        0.        ,  0.        ,  0.        ,  0.        ,  0.        ,\n",
        "        0.        , -0.06481455,  0.        ,  0.        , -0.09480085,\n",
        "        0.        ,  0.        ,  0.        ,  0.        ,  0.        ,\n",
        "        0.        ,  0.        ,  0.        ,  0.        ,  0.        ,\n",
        "        0.        , -0.19768276,  0.        ,  0.        ,  0.        ,\n",
        "        0.        ,  0.        ,  0.        ,  0.        ,  0.        ,\n",
        "        0.        ,  0.        ,  0.        ,  0.        ,  0.        ,\n",
        "        0.        ,  0.        ,  0.        , -0.43185576,  0.        ,\n",
        "        0.        ,  0.        , -0.02960757,  0.        ,  0.        ,\n",
        "        0.01789266,  0.        ,  0.        ,  0.        ,  0.        ,\n",
        "        0.        , -0.10728653,  0.        ,  0.        ,  0.        ,\n",
        "        0.        ,  0.        ,  0.        ,  0.        ,  0.        ,\n",
        "        0.        ,  0.        ,  0.        ,  0.        ,  0.        ,\n",
        "        0.        ,  0.        ,  0.        ,  0.        ,  0.        ,\n",
        "        0.        ,  0.        ,  0.        ,  0.        ,  0.        ,\n",
        "        0.        ,  0.        ,  0.        ,  0.        ,  0.        ,\n",
        "        0.        ,  0.        ,  0.        ,  0.        ,  0.        ,\n",
        "        0.        ,  0.        ,  0.        ,  0.        ,  0.        ,\n",
        "        0.        ,  0.        ,  0.04117627,  0.        ,  0.        ,\n",
        "       -0.02071677,  0.        ,  0.        ,  0.        ,  0.        ,\n",
        "        0.        ,  0.        ,  0.        ,  0.        ,  0.        ,\n",
        "        0.        , -0.06519396,  0.        ,  0.        ,  0.        ,\n",
        "        0.        ,  0.        ,  0.        ,  0.        ,  0.        ,\n",
        "       -0.31684491,  0.        ,  0.        ,  0.07746003,  0.07746003,\n",
        "        0.        ,  0.        ,  0.        ,  0.        ,  0.        ,\n",
        "        0.        ,  0.        ,  0.18893218,  0.        ,  0.        ,\n",
        "        0.        ,  0.        ,  0.        ,  0.        ,  0.        ,\n",
        "        0.        ,  0.        , -0.19768276,  0.        ,  0.        ,\n",
        "        0.        ,  0.        ,  0.        ,  0.        , -0.13923914,\n",
        "        0.13549979,  0.        ,  0.        ,  0.        ,  0.        ,\n",
        "        0.        ,  0.        ,  0.        ,  0.        ,  0.        ,\n",
        "        0.        ,  0.        ,  0.        ,  0.        ,  0.        ,\n",
        "        0.        ,  0.        ,  0.00844959,  0.        ,  0.        ,\n",
        "        0.        ,  0.        , -0.07075025,  0.        ,  0.        ,\n",
        "       -0.32135173, -0.07381958,  0.        ,  0.        ,  0.        ,  0.        ])"
       ]
      }
     ],
     "prompt_number": 34
    },
    {
     "cell_type": "code",
     "collapsed": false,
     "input": [
      "# Compute the mean of the gaps in the training data.\n",
      "gaps = np.array([datum['gap'] for datum in train_data[500000:]])\n",
      "features = np.array([datum['features'] for features in train_data[500000:]])\n",
      "clf.score(features,gaps)"
     ],
     "language": "python",
     "metadata": {},
     "outputs": [
      {
       "metadata": {},
       "output_type": "pyout",
       "prompt_number": 35,
       "text": [
        "-0.1376719474018715"
       ]
      }
     ],
     "prompt_number": 35
    },
    {
     "cell_type": "code",
     "collapsed": false,
     "input": [
      "# Load the test file.\n",
      "test_data = []\n",
      "with gzip.open(test_filename, 'r') as test_fh:\n",
      "\n",
      "    # Parse it as a CSV file.\n",
      "    test_csv = csv.reader(test_fh, delimiter=',', quotechar='\"')\n",
      "    \n",
      "    # Skip the header row.\n",
      "    next(test_csv, None)\n",
      "\n",
      "    # Load the data.\n",
      "    for row in test_csv:\n",
      "        id       = row[0]\n",
      "        smiles   = row[1]\n",
      "        features = np.array([float(x) for x in row[2:258]])\n",
      "        \n",
      "        test_data.append({ 'id':       id,\n",
      "                           'smiles':   smiles,\n",
      "                           'features': features })"
     ],
     "language": "python",
     "metadata": {},
     "outputs": [],
     "prompt_number": 14
    },
    {
     "cell_type": "code",
     "collapsed": false,
     "input": [
      "# Compute the mean of the gaps in the training data.\n",
      "gaps = np.array([datum['gap'] for datum in test_data])\n",
      "features = np.array([datum['features'] for features in test_data])\n",
      "clf.score(features,gaps)"
     ],
     "language": "python",
     "metadata": {},
     "outputs": [
      {
       "ename": "KeyError",
       "evalue": "'gap'",
       "output_type": "pyerr",
       "traceback": [
        "\u001b[0;31m---------------------------------------------------------------------------\u001b[0m\n\u001b[0;31mKeyError\u001b[0m                                  Traceback (most recent call last)",
        "\u001b[0;32m<ipython-input-15-6a7672beefe1>\u001b[0m in \u001b[0;36m<module>\u001b[0;34m()\u001b[0m\n\u001b[1;32m      1\u001b[0m \u001b[0;31m# Compute the mean of the gaps in the training data.\u001b[0m\u001b[0;34m\u001b[0m\u001b[0;34m\u001b[0m\u001b[0m\n\u001b[0;32m----> 2\u001b[0;31m \u001b[0mgaps\u001b[0m \u001b[0;34m=\u001b[0m \u001b[0mnp\u001b[0m\u001b[0;34m.\u001b[0m\u001b[0marray\u001b[0m\u001b[0;34m(\u001b[0m\u001b[0;34m[\u001b[0m\u001b[0mdatum\u001b[0m\u001b[0;34m[\u001b[0m\u001b[0;34m'gap'\u001b[0m\u001b[0;34m]\u001b[0m \u001b[0;32mfor\u001b[0m \u001b[0mdatum\u001b[0m \u001b[0;32min\u001b[0m \u001b[0mtest_data\u001b[0m\u001b[0;34m]\u001b[0m\u001b[0;34m)\u001b[0m\u001b[0;34m\u001b[0m\u001b[0m\n\u001b[0m\u001b[1;32m      3\u001b[0m \u001b[0mfeatures\u001b[0m \u001b[0;34m=\u001b[0m \u001b[0mnp\u001b[0m\u001b[0;34m.\u001b[0m\u001b[0marray\u001b[0m\u001b[0;34m(\u001b[0m\u001b[0;34m[\u001b[0m\u001b[0mdatum\u001b[0m\u001b[0;34m[\u001b[0m\u001b[0;34m'features'\u001b[0m\u001b[0;34m]\u001b[0m \u001b[0;32mfor\u001b[0m \u001b[0mfeatures\u001b[0m \u001b[0;32min\u001b[0m \u001b[0mtest_data\u001b[0m\u001b[0;34m]\u001b[0m\u001b[0;34m)\u001b[0m\u001b[0;34m\u001b[0m\u001b[0m\n\u001b[1;32m      4\u001b[0m \u001b[0mclf\u001b[0m\u001b[0;34m.\u001b[0m\u001b[0mscore\u001b[0m\u001b[0;34m(\u001b[0m\u001b[0mfeatures\u001b[0m\u001b[0;34m,\u001b[0m\u001b[0mgaps\u001b[0m\u001b[0;34m)\u001b[0m\u001b[0;34m\u001b[0m\u001b[0m\n",
        "\u001b[0;31mKeyError\u001b[0m: 'gap'"
       ]
      }
     ],
     "prompt_number": 15
    },
    {
     "cell_type": "code",
     "collapsed": false,
     "input": [
      "# Write a prediction file.\n",
      "with open(pred_filename, 'w') as pred_fh:\n",
      "\n",
      "    # Produce a CSV file.\n",
      "    pred_csv = csv.writer(pred_fh, delimiter=',', quotechar='\"')\n",
      "\n",
      "    # Write the header row.\n",
      "    pred_csv.writerow(['Id', 'Prediction'])\n",
      "\n",
      "    for datum in test_data:\n",
      "        pred_csv.writerow([datum['id'], mean_gap])"
     ],
     "language": "python",
     "metadata": {},
     "outputs": []
    },
    {
     "cell_type": "code",
     "collapsed": false,
     "input": [
      "gaps[1]"
     ],
     "language": "python",
     "metadata": {},
     "outputs": [
      {
       "metadata": {},
       "output_type": "pyout",
       "prompt_number": 28,
       "text": [
        "1.6700000000000004"
       ]
      }
     ],
     "prompt_number": 28
    },
    {
     "cell_type": "code",
     "collapsed": false,
     "input": [],
     "language": "python",
     "metadata": {},
     "outputs": []
    }
   ],
   "metadata": {}
  }
 ]
}