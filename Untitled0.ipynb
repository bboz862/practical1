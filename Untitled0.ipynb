{
 "metadata": {
  "name": "",
  "signature": "sha256:b1502c8880f1e78073390a271e73563ae131559f01fc23150d6048bd27d2ec32"
 },
 "nbformat": 3,
 "nbformat_minor": 0,
 "worksheets": [
  {
   "cells": [
    {
     "cell_type": "code",
     "collapsed": false,
     "input": [
      "import csv\n",
      "import gzip\n",
      "import numpy as np\n",
      "\n",
      "train_filename = 'train.csv.gz'\n",
      "test_filename  = 'test.csv.gz'\n",
      "pred_filename  = 'example_mean.csv'\n"
     ],
     "language": "python",
     "metadata": {},
     "outputs": []
    },
    {
     "cell_type": "code",
     "collapsed": false,
     "input": [
      "# Load the training file.\n",
      "train_data = []\n",
      "with gzip.open(train_filename, 'r') as train_fh:\n",
      "\n",
      "    # Parse it as a CSV file.\n",
      "    train_csv = csv.reader(train_fh, delimiter=',', quotechar='\"')\n",
      "    \n",
      "    # Skip the header row.\n",
      "    next(train_csv, None)\n",
      "\n",
      "    # Load the data.\n",
      "    for row in train_csv:\n",
      "        smiles   = row[0]\n",
      "        features = np.array([float(x) for x in row[1:257]])\n",
      "        gap      = float(row[257])\n",
      "        \n",
      "        train_data.append({ 'smiles':   smiles,\n",
      "                            'features': features,\n",
      "                            'gap':      gap })\n"
     ],
     "language": "python",
     "metadata": {},
     "outputs": []
    },
    {
     "cell_type": "code",
     "collapsed": false,
     "input": [
      "# Compute the mean of the gaps in the training data.\n",
      "gaps = np.array([datum['gap'] for datum in train_data])\n",
      "mean_gap = np.mean(gaps)"
     ],
     "language": "python",
     "metadata": {},
     "outputs": []
    },
    {
     "cell_type": "code",
     "collapsed": false,
     "input": [
      "# Load the test file.\n",
      "test_data = []\n",
      "with gzip.open(test_filename, 'r') as test_fh:\n",
      "\n",
      "    # Parse it as a CSV file.\n",
      "    test_csv = csv.reader(test_fh, delimiter=',', quotechar='\"')\n",
      "    \n",
      "    # Skip the header row.\n",
      "    next(test_csv, None)\n",
      "\n",
      "    # Load the data.\n",
      "    for row in test_csv:\n",
      "        id       = row[0]\n",
      "        smiles   = row[1]\n",
      "        features = np.array([float(x) for x in row[2:258]])\n",
      "        \n",
      "        test_data.append({ 'id':       id,\n",
      "                           'smiles':   smiles,\n",
      "                           'features': features })"
     ],
     "language": "python",
     "metadata": {},
     "outputs": []
    },
    {
     "cell_type": "code",
     "collapsed": false,
     "input": [
      "# Write a prediction file.\n",
      "with open(pred_filename, 'w') as pred_fh:\n",
      "\n",
      "    # Produce a CSV file.\n",
      "    pred_csv = csv.writer(pred_fh, delimiter=',', quotechar='\"')\n",
      "\n",
      "    # Write the header row.\n",
      "    pred_csv.writerow(['Id', 'Prediction'])\n",
      "\n",
      "    for datum in test_data:\n",
      "        pred_csv.writerow([datum['id'], mean_gap])"
     ],
     "language": "python",
     "metadata": {},
     "outputs": []
    }
   ],
   "metadata": {}
  }
 ]
}