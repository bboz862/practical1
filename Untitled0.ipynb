{
 "metadata": {
  "name": "",
  "signature": "sha256:23c0936a5083726b10612d56dbdf2e27650e75c245fae8318fe0fd29600e8fab"
 },
 "nbformat": 3,
 "nbformat_minor": 0,
 "worksheets": []
}